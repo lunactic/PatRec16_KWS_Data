{
 "cells": [
  {
   "cell_type": "code",
   "execution_count": 6,
   "metadata": {},
   "outputs": [],
   "source": [
    "import numpy as np\n",
    "import pickle\n",
    "from time import perf_counter\n",
    "\n",
    "from cropping import masking"
   ]
  },
  {
   "cell_type": "code",
   "execution_count": null,
   "metadata": {},
   "outputs": [],
   "source": [
    "trimmed = masking(270)\n"
   ]
  },
  {
   "cell_type": "code",
   "execution_count": 22,
   "metadata": {},
   "outputs": [],
   "source": [
    "with open('p270.txt','w') as state:\n",
    "    state.write(str(trimmed))\n",
    "#might loose info, I'm not sure how it works, so I'm using pickle which seems to work.\n",
    "with open('p270.pkl','wb') as f:\n",
    "    pickle.dump(trimmed,f,pickle.HIGHEST_PROTOCOL)"
   ]
  },
  {
   "cell_type": "markdown",
   "metadata": {},
   "source": [
    "To load:"
   ]
  },
  {
   "cell_type": "code",
   "execution_count": 21,
   "metadata": {},
   "outputs": [],
   "source": [
    "with open('p270.pkl','rb') as f:\n",
    "    test = pickle.load(f)"
   ]
  },
  {
   "cell_type": "code",
   "execution_count": 2,
   "metadata": {},
   "outputs": [],
   "source": [
    "pages = [270, 271, 272, 273, 274, 275, 276, 277, 278, 279, 300, 301, 302, 303, 304]"
   ]
  },
  {
   "cell_type": "code",
   "execution_count": 4,
   "metadata": {},
   "outputs": [
    {
     "name": "stdout",
     "output_type": "stream",
     "text": [
      "221 174.399150046\n",
      "274 133.91643864899999\n",
      "249 294.807801745\n",
      "231 257.411423926\n",
      "259 444.09017995399995\n",
      "269 407.80392018300006\n",
      "235 556.74163788\n",
      "245 525.6864058350001\n",
      "207 651.095348165\n",
      "243 670.840171365\n",
      "203 749.055270556\n",
      "276 827.399023431\n",
      "266 899.418485265\n",
      "306 994.61608917\n",
      "242 1010.605768261\n"
     ]
    }
   ],
   "source": [
    "a = 0\n",
    "for x in pages:\n",
    "    _temp = masking(x)\n",
    "    print(len(_temp),perf_counter())"
   ]
  }
 ],
 "metadata": {
  "kernelspec": {
   "display_name": "Python 3",
   "language": "python",
   "name": "python3"
  },
  "language_info": {
   "codemirror_mode": {
    "name": "ipython",
    "version": 3
   },
   "file_extension": ".py",
   "mimetype": "text/x-python",
   "name": "python",
   "nbconvert_exporter": "python",
   "pygments_lexer": "ipython3",
   "version": "3.7.3"
  }
 },
 "nbformat": 4,
 "nbformat_minor": 2
}
